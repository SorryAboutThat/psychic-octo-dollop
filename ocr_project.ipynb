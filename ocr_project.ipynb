{
  "nbformat": 4,
  "nbformat_minor": 0,
  "metadata": {
    "colab": {
      "provenance": [],
      "authorship_tag": "ABX9TyPgJVpgvI9VK4vucvWyWim4",
      "include_colab_link": true
    },
    "kernelspec": {
      "name": "python3",
      "display_name": "Python 3"
    },
    "language_info": {
      "name": "python"
    }
  },
  "cells": [
    {
      "cell_type": "markdown",
      "metadata": {
        "id": "view-in-github",
        "colab_type": "text"
      },
      "source": [
        "<a href=\"https://colab.research.google.com/github/SorryAboutThat/psychic-octo-dollop/blob/main/ocr_project.ipynb\" target=\"_parent\"><img src=\"https://colab.research.google.com/assets/colab-badge.svg\" alt=\"Open In Colab\"/></a>"
      ]
    },
    {
      "cell_type": "code",
      "execution_count": null,
      "metadata": {
        "id": "2pzdVW00EAW8"
      },
      "outputs": [],
      "source": [
        "!sudo apt-get install tesseract-ocr"
      ]
    },
    {
      "cell_type": "code",
      "source": [
        "!pip install tesseract"
      ],
      "metadata": {
        "id": "2JcDSGyyEMj0"
      },
      "execution_count": null,
      "outputs": []
    },
    {
      "cell_type": "code",
      "source": [
        "!pip install pytesseract"
      ],
      "metadata": {
        "id": "6G1AhswVE_iw"
      },
      "execution_count": null,
      "outputs": []
    },
    {
      "cell_type": "code",
      "source": [
        "from PIL import Image\n",
        "import numpy as np\n",
        "import pytesseract\n"
      ],
      "metadata": {
        "id": "BeApikEKEemu"
      },
      "execution_count": 3,
      "outputs": []
    },
    {
      "cell_type": "code",
      "source": [
        "filename = 'image_01.png'\n",
        "img1 = np.array(Image.open(filename))\n",
        "text = pytesseract.image_to_string(img1)"
      ],
      "metadata": {
        "id": "dyl1YP_GFJ62"
      },
      "execution_count": 4,
      "outputs": []
    },
    {
      "cell_type": "code",
      "source": [
        "print(text)"
      ],
      "metadata": {
        "colab": {
          "base_uri": "https://localhost:8080/"
        },
        "id": "Y61hm1h1Figp",
        "outputId": "db1fda5a-663c-4e99-a3a5-1ba4cd578e23"
      },
      "execution_count": 5,
      "outputs": [
        {
          "output_type": "stream",
          "name": "stdout",
          "text": [
            "Tesseract sample\n",
            "\f\n"
          ]
        }
      ]
    },
    {
      "cell_type": "code",
      "source": [
        "filename = 'nda_test.jpg'\n",
        "img = np.array(Image.open(filename))\n",
        "text = pytesseract.image_to_string(img)"
      ],
      "metadata": {
        "id": "wFnvjNwIGAZQ"
      },
      "execution_count": 13,
      "outputs": []
    },
    {
      "cell_type": "code",
      "source": [
        "print(text)"
      ],
      "metadata": {
        "id": "eKd5bmWsGGaf"
      },
      "execution_count": null,
      "outputs": []
    },
    {
      "cell_type": "code",
      "source": [
        "import numpy as np\n",
        "import cv2\n",
        "norm_img = np.zeros((img.shape[0], img.shape[1]))\n",
        "img = cv2.normalize(img, norm_img, 0, 255, cv2.NORM_MINMAX)\n",
        "img = cv2.threshold(img, 100, 255, cv2.THRESH_BINARY)[1]\n",
        "img = cv2.GaussianBlur(img, (1, 1), 0)\n",
        "text = pytesseract.image_to_string(img1)\n",
        "print(text)\n"
      ],
      "metadata": {
        "id": "oZw4AN5jGaGD"
      },
      "execution_count": null,
      "outputs": []
    },
    {
      "cell_type": "code",
      "source": [
        "import numpy as np\n",
        "import cv2\n",
        "\n",
        "filename = 'test_3.png'\n",
        "img = np.array(Image.open(filename))\n",
        "norm_img = np.zeros((img.shape[0], img.shape[1]))\n",
        "img = cv2.normalize(img, norm_img, 0, 255, cv2.NORM_MINMAX)\n",
        "img = cv2.threshold(img, 100, 255, cv2.THRESH_BINARY)[1]\n",
        "img = cv2.GaussianBlur(img, (1, 1), 0)\n",
        "text = pytesseract.image_to_string(img)\n",
        "print(text)\n"
      ],
      "metadata": {
        "colab": {
          "base_uri": "https://localhost:8080/"
        },
        "id": "PeWKbrFEIpNm",
        "outputId": "0f5c9bd9-4f61-45ea-c4e3-c27a739773b0"
      },
      "execution_count": 19,
      "outputs": [
        {
          "output_type": "stream",
          "name": "stdout",
          "text": [
            "It was the best of\n",
            "times, it was the worst\n",
            "of times, it was the age\n",
            "of wisdom, it was the\n",
            "age of foolishness...\n",
            "\f\n"
          ]
        }
      ]
    }
  ]
}