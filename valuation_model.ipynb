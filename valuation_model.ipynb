{
 "cells": [
  {
   "cell_type": "code",
   "execution_count": null,
   "id": "860568ad",
   "metadata": {},
   "outputs": [],
   "source": [
    "from bs4 import BeautifulSoup as bs\n",
    "import pandas as pd\n",
    "pd.options.display.float_format = '${:,.0f}'.format\n",
    "import requests\n",
    "import pandas_datareader as dr\n",
    "import datetime"
   ]
  },
  {
   "cell_type": "code",
   "execution_count": null,
   "id": "a404f076",
   "metadata": {},
   "outputs": [],
   "source": [
    "#Assumptions\n",
    "\n",
    "company_ticker = 'WMT'\n",
    "\n",
    "# Constant Expected Growth Rate\n",
    "long_term_growth = 0.02\n",
    "\n",
    "# Market Risk Premium\n",
    "market_risk_premium = 0.0523\n",
    "\n",
    "# Risk-free Rate\n",
    "timespan = 100\n",
    "current_date = datetime.date.today()\n",
    "past_date = current_date-datetime.timedelta(days=timespan)\n",
    "risk_free_rate_df = dr.DataReader('^TNX', 'yahoo', past_date, current_date) \n",
    "risk_free_rate = (risk_free_rate_df.iloc[len(risk_free_rate_df)-1,5])/100\n",
    "\n",
    "#debt spread + fcf growth override\n",
    "debt_spread = 0.0\n",
    "fcf_growth_override = 0.4\n",
    "\n"
   ]
  },
  {
   "cell_type": "code",
   "execution_count": null,
   "id": "1994c44f",
   "metadata": {},
   "outputs": [],
   "source": [
    "url = \"https://financial-statements.p.rapidapi.com/api/v1/resources/cash-flow\"\n",
    "\n",
    "querystring = {\"ticker\":company_ticker}\n",
    "\n",
    "headers = {\n",
    "    'x-rapidapi-host': \"financial-statements.p.rapidapi.com\",\n",
    "    'x-rapidapi-key': \"53aa51e3a0msh4a983fc005dac6cp176d0ajsnb48d0530cd10\"\n",
    "    }\n",
    "\n",
    "cash_flow_response = requests.request(\"GET\", url, headers=headers, params=querystring)\n",
    "\n",
    "# Create Cash Flow Statement DataFrame\n",
    "cash_flow_df = pd.DataFrame.from_dict(cash_flow_response.json())\n",
    "cash_flow_df = cash_flow_df.drop('ttm', axis = 1)\n",
    "cash_flow_df = cash_flow_df.astype(float)\n",
    "cash_flow_df"
   ]
  },
  {
   "cell_type": "code",
   "execution_count": null,
   "id": "93b9e37f",
   "metadata": {},
   "outputs": [],
   "source": [
    "url = \"https://financial-statements.p.rapidapi.com/api/v1/resources/income-statement\"\n",
    "\n",
    "querystring = {\"ticker\":company_ticker}\n",
    "\n",
    "headers = {\n",
    "    'x-rapidapi-host': \"financial-statements.p.rapidapi.com\",\n",
    "    'x-rapidapi-key': \"53aa51e3a0msh4a983fc005dac6cp176d0ajsnb48d0530cd10\"\n",
    "    }\n",
    "\n",
    "income_statement_response = requests.request(\"GET\", url, headers=headers, params=querystring)\n",
    "\n",
    "# Create Income Statement DataFrame\n",
    "income_statement_df = pd.DataFrame.from_dict(income_statement_response.json())\n",
    "income_statement_df = income_statement_df.drop('ttm', axis = 1)\n",
    "income_statement_df = income_statement_df.astype(float)\n",
    "income_statement_df"
   ]
  },
  {
   "cell_type": "code",
   "execution_count": null,
   "id": "7c844f7d",
   "metadata": {},
   "outputs": [],
   "source": [
    "# FCFF Calculation using Cash Flow Statement and Income Statement Inputs\n",
    "free_cash_flow_firm = (cash_flow_df.loc['Free Cash Flow'].astype(float) \\\n",
    "                    + (income_statement_df.loc['Interest Expense'].astype(float) \\\n",
    "                       * (1 - income_statement_df.loc['Tax Provision'].astype(float) \\\n",
    "                          / income_statement_df.loc['Pretax Income'].astype(float)))).astype(float)\n",
    "\n",
    "# Change Series to a Pandas Dataframe\n",
    "free_cash_flow_firm_df = free_cash_flow_firm.to_frame().transpose()\n",
    "free_cash_flow_firm_df"
   ]
  },
  {
   "cell_type": "code",
   "execution_count": null,
   "id": "ccb245cb",
   "metadata": {},
   "outputs": [],
   "source": [
    "# CAGR of FCFF\n",
    "latest_free_cash_flow_firm = float(free_cash_flow_firm_df.iloc[0,len(free_cash_flow_firm_df.columns)-1])\n",
    "earliest_free_cash_flow_firm = float(free_cash_flow_firm_df.iloc[0,1])\n",
    "free_cash_flow_firm_CAGR = (latest_free_cash_flow_firm/earliest_free_cash_flow_firm)\\\n",
    "                            **(float(1/(len(free_cash_flow_firm_df.columns)-2)))-1\n",
    "\n",
    "free_cash_flow_firm_CAGR = max(free_cash_flow_firm_CAGR, fcf_growth_override)\n",
    "print(\"Free Cash Flow Growth Projection: \" + str(free_cash_flow_firm_CAGR*100) +\"%\")\n"
   ]
  },
  {
   "cell_type": "code",
   "execution_count": null,
   "id": "60453b65",
   "metadata": {},
   "outputs": [],
   "source": [
    "# Forecasted FCFF\n",
    "forecast_free_cash_flow_firm_df = pd.DataFrame(columns=['Year ' + str(i) for i in range(1,7)])\n",
    "free_cash_flow_firm_forecast_lst = []\n",
    "for i in range(1,7):\n",
    "    if i != 6:\n",
    "        free_cash_flow_firm_forecast = latest_free_cash_flow_firm*(1+free_cash_flow_firm_CAGR)**i\n",
    "    else:\n",
    "        free_cash_flow_firm_forecast = latest_free_cash_flow_firm*(1+free_cash_flow_firm_CAGR)\\\n",
    "                                        **(i-1)*(1+long_term_growth)\n",
    "    free_cash_flow_firm_forecast_lst.append(int(free_cash_flow_firm_forecast))\n",
    "forecast_free_cash_flow_firm_df.loc[0] = free_cash_flow_firm_forecast_lst\n",
    "forecast_free_cash_flow_firm_df.astype(float)"
   ]
  },
  {
   "cell_type": "code",
   "execution_count": null,
   "id": "824549a5",
   "metadata": {},
   "outputs": [],
   "source": [
    "url = \"https://stock-analysis.p.rapidapi.com/api/v1/resources/key-stats\"\n",
    "\n",
    "querystring = {\"ticker\":company_ticker}\n",
    "\n",
    "headers = {\n",
    "    'x-rapidapi-host': \"stock-analysis.p.rapidapi.com\",\n",
    "    'x-rapidapi-key': \"53aa51e3a0msh4a983fc005dac6cp176d0ajsnb48d0530cd10\"\n",
    "    }\n",
    "\n",
    "key_stats_response = requests.request(\"GET\", url, headers=headers, params=querystring)\n",
    "\n",
    "# Create Key Statistics DataFrame\n",
    "key_stats_df = pd.DataFrame.from_dict(key_stats_response.json())\n",
    "key_stats_df = key_stats_df.transpose()\n",
    "key_stats_df"
   ]
  },
  {
   "cell_type": "code",
   "execution_count": null,
   "id": "e10f5f4b",
   "metadata": {},
   "outputs": [],
   "source": [
    "url = \"https://financial-statements.p.rapidapi.com/api/v1/resources/balance-sheet\"\n",
    "querystring = {\"ticker\":company_ticker}\n",
    "headers = {\n",
    "    'x-rapidapi-host': \"financial-statements.p.rapidapi.com\",\n",
    "    'x-rapidapi-key': \"53aa51e3a0msh4a983fc005dac6cp176d0ajsnb48d0530cd10\"\n",
    "    }\n",
    "balance_sheet_response = requests.request(\"GET\", url, headers=headers, params=querystring)\n",
    "# Create Balance Sheet DataFrame\n",
    "balance_sheet_df = pd.DataFrame.from_dict(balance_sheet_response.json())\n",
    "balance_sheet_df"
   ]
  },
  {
   "cell_type": "code",
   "execution_count": null,
   "id": "06d795a0",
   "metadata": {},
   "outputs": [],
   "source": [
    "# Stock's Beta\n",
    "equity_beta = float(key_stats_df.loc[r'Beta (5Y monthly)'])\n",
    "print(\"Beta: \" + str(equity_beta))"
   ]
  },
  {
   "cell_type": "code",
   "execution_count": null,
   "id": "120f13a4",
   "metadata": {},
   "outputs": [],
   "source": [
    "# Required Return on Equity\n",
    "equity_return = risk_free_rate + (equity_beta*market_risk_premium)\n",
    "print(\"Cost of Equity: \" +str(equity_return*100) + \"%\")"
   ]
  },
  {
   "cell_type": "code",
   "execution_count": null,
   "id": "5203112f",
   "metadata": {},
   "outputs": [],
   "source": [
    "# Interest Expense\n",
    "interest_expense = income_statement_df.loc['Interest Expense']\n",
    "interest_expense_df = interest_expense.to_frame().transpose()\n",
    "interest_expense_str = interest_expense_df.values[0][-1:]\n",
    "interest_expense_int = int(interest_expense_str)\n",
    "# Total Debt\n",
    "total_debt = balance_sheet_df.loc['Total Debt']\n",
    "total_debt_df = total_debt.to_frame().transpose()\n",
    "total_debt_str = total_debt_df.values[0][-1:]\n",
    "total_debt_int = int(total_debt_str)\n",
    "# Required Return on Debt\n",
    "debt_return = risk_free_rate + debt_spread\n",
    "\n",
    "print(\"Cost of Debt: \" + str(float(debt_return*100))+ \"%\")"
   ]
  },
  {
   "cell_type": "code",
   "execution_count": null,
   "id": "d861cce7",
   "metadata": {},
   "outputs": [],
   "source": [
    "# Effective Tax Rate\n",
    "effective_tax_rate = income_statement_df.loc['Tax Provision'].astype(int) / income_statement_df.loc['Pretax Income'].astype(int)\n",
    "avg_effective_tax_rate = sum(effective_tax_rate) / len(effective_tax_rate)\n",
    "print(\"Effective Tax Rate: \" +str(avg_effective_tax_rate*100) +\"%\")\n"
   ]
  },
  {
   "cell_type": "code",
   "execution_count": null,
   "id": "de12407e",
   "metadata": {},
   "outputs": [],
   "source": [
    "# Market Value of Equity\n",
    "market_cap_str = key_stats_df.loc[r'Market cap (intra-day)'][0]\n",
    "market_cap_lst = market_cap_str.split('.')\n",
    "\n",
    "if market_cap_str[len(market_cap_str)-1] == 'T':\n",
    "    market_cap_length = len(market_cap_lst[1])-1\n",
    "    market_cap_lst[1] = market_cap_lst[1].replace('T',(9-market_cap_length)*'0')\n",
    "    market_cap_int = int(''.join(market_cap_lst))\n",
    "if market_cap_str[len(market_cap_str)-1] == 'B':\n",
    "    market_cap_length = len(market_cap_lst[1])-1\n",
    "    market_cap_lst[1] = market_cap_lst[1].replace('B',(6-market_cap_length)*'0')\n",
    "    market_cap_int = int(''.join(market_cap_lst))\n",
    "if market_cap_str[len(market_cap_str)-1] == 'M':\n",
    "    market_cap_length = len(market_cap_lst[1])-1\n",
    "    market_cap_lst[1] = market_cap_lst[1].replace('M',(3-market_cap_length)*'0')\n",
    "    market_cap_int = int(''.join(market_cap_lst))\n",
    "\n",
    "print(\"Market Cap = \" +'${:,.0f}'.format(market_cap_int))"
   ]
  },
  {
   "cell_type": "code",
   "execution_count": null,
   "id": "0b6e82cb",
   "metadata": {},
   "outputs": [],
   "source": [
    "# Market Value of Debt\n",
    "net_debt = balance_sheet_df.loc['Net Debt']\n",
    "net_debt_df = net_debt.to_frame().transpose()\n",
    "net_debt_str = net_debt_df.values[0][-1:]\n",
    "net_debt_int = int(net_debt_str)\n",
    "\n",
    "print(\"Net Debt = \" +'${:,.0f}'.format(net_debt_int))"
   ]
  },
  {
   "cell_type": "code",
   "execution_count": null,
   "id": "1bc63303",
   "metadata": {},
   "outputs": [],
   "source": [
    "# Company Value\n",
    "company_value = market_cap_int + net_debt_int\n",
    "print(\"Company Value = \" +'${:,.0f}'.format(company_value))"
   ]
  },
  {
   "cell_type": "code",
   "execution_count": null,
   "id": "089928d0",
   "metadata": {},
   "outputs": [],
   "source": [
    "WACC = ((market_cap_int/company_value) * equity_return) \\\n",
    "        + ((net_debt_int/company_value) * (debt_return * (1-avg_effective_tax_rate)))\n",
    "\n",
    "print(\"WACC = \"+ '{0:,.2f}%'.format(WACC*100))"
   ]
  },
  {
   "cell_type": "code",
   "execution_count": null,
   "id": "743968c5",
   "metadata": {},
   "outputs": [],
   "source": [
    "# Equity Value Calculation\n",
    "discounted_FCFF_lst = []\n",
    "for year in range(0,5):\n",
    "    discounted_FCFF = forecast_free_cash_flow_firm_df.iloc[0,year]/(1+WACC)**(year+1)\n",
    "    discounted_FCFF_lst.append(int(discounted_FCFF))\n",
    "    \n",
    "terminal_value = forecast_free_cash_flow_firm_df.iloc[0,5]/(WACC-long_term_growth)\n",
    "print(\"Terminal Value = \" +'${:,.0f}'.format(terminal_value))\n",
    "\n",
    "PV_terminal_value = int(terminal_value/(1+WACC)**5)\n",
    "print(\"PV of terminal Value = \" +'${:,.0f}'.format(PV_terminal_value))\n",
    "\n",
    "enterprise_value = sum(discounted_FCFF_lst)+PV_terminal_value\n",
    "print(\"Enterprise Value = \" +'${:,.0f}'.format(enterprise_value))\n",
    "\n",
    "\n",
    "equity_value = enterprise_value-net_debt_int\n",
    "print(\"Equity Value = \" +'${:,.0f}'.format(equity_value))"
   ]
  },
  {
   "cell_type": "code",
   "execution_count": null,
   "id": "81feabdf",
   "metadata": {},
   "outputs": [],
   "source": [
    "# Total Shares Outstanding\n",
    "shares_outstanding_str = key_stats_df.loc[r'Shares outstanding '][0]\n",
    "shares_outstanding_lst = shares_outstanding_str.split('.')\n",
    "\n",
    "\n",
    "if shares_outstanding_str[len(shares_outstanding_str)-1] == 'T':\n",
    "    shares_outstanding_length = len(shares_outstanding_lst[1])-1\n",
    "    shares_outstanding_lst[1] = shares_outstanding_lst[1].replace('T',(9-shares_outstanding_length)*'0')\n",
    "    shares_outstanding_int = int(''.join(shares_outstanding_lst))\n",
    "if shares_outstanding_str[len(shares_outstanding_str)-1] == 'B':\n",
    "    shares_outstanding_length = len(shares_outstanding_lst[1])-1\n",
    "    shares_outstanding_lst[1] = shares_outstanding_lst[1].replace('B',(6-shares_outstanding_length)*'0')\n",
    "    shares_outstanding_int = int(''.join(shares_outstanding_lst))\n",
    "if shares_outstanding_str[len(shares_outstanding_str)-1] == 'M':\n",
    "    shares_outstanding_length = len(shares_outstanding_lst[1])-1\n",
    "    shares_outstanding_lst[1] = shares_outstanding_lst[1].replace('M',(3-shares_outstanding_length)*'0')\n",
    "    shares_outstanding_int = int(''.join(shares_outstanding_lst))"
   ]
  },
  {
   "cell_type": "code",
   "execution_count": null,
   "id": "879ad9ec",
   "metadata": {},
   "outputs": [],
   "source": [
    "# Two-stage FCFF Valuation Model Stock Price Estimate\n",
    "stock_price = equity_value / shares_outstanding_int\n",
    "stock_price = '${:,.2f}'.format(stock_price)\n",
    "print(\"Model Stock Price = %s\"%(stock_price))\n",
    "# Actual Stock Price\n",
    "actual_stock_price = market_cap_int / shares_outstanding_int\n",
    "actual_stock_price = '${:,.2f}'.format(actual_stock_price)\n",
    "print(\"Actual Stock Price = %s\"%(actual_stock_price))"
   ]
  },
  {
   "cell_type": "code",
   "execution_count": null,
   "id": "1ee3fab2",
   "metadata": {},
   "outputs": [],
   "source": [
    "#Summary Output\n",
    "\n",
    "print(\"Company Ticker: \" +str(company_ticker))\n",
    "print(\"-------------------------------\")\n",
    "print(\"Output\")\n",
    "print(\"Actual Stock Price = %s\"%(actual_stock_price))\n",
    "print(\"Model Stock Price = %s\"%(stock_price))\n",
    "delta = (equity_value / shares_outstanding_int)/(market_cap_int / shares_outstanding_int)- 1\n",
    "print (\"Premimum / (Discount): \" +'{:,.2f}%'.format(delta*100))\n",
    "print(\"-------------------------------\")\n",
    "print(\"Financial Summary\")\n",
    "\n",
    "\n",
    "print(\"Market Cap = \" +'${:,.0f}'.format(market_cap_int))\n",
    "print(\"Net Debt = \" +'${:,.0f}'.format(net_debt_int))\n",
    "print(\"Company Value = \" +'${:,.0f}'.format(company_value))\n",
    "print(\"Shares Outstanding: \" +'{:,.0f}'.format(shares_outstanding_int))\n",
    "\n",
    "\n",
    "\n",
    "print(\"-------------------------------\")\n",
    "print(\"Assumptions\")\n",
    "print(\"Beta: \" + str(equity_beta))\n",
    "print(\"Free Cash Flow Growth Projection: \" + str(free_cash_flow_firm_CAGR*100) +\"%\")\n",
    "print(\"WACC = \"+ '{0:,.2f}%'.format(WACC*100))\n",
    "print(\"Cost of Equity: \" +'{0:,.2f}%'.format(equity_return*100))\n",
    "print(\"Cost of Debt: \" + '{0:,.2f}%'.format(debt_return*100))\n"
   ]
  },
  {
   "cell_type": "code",
   "execution_count": null,
   "id": "76d5b834",
   "metadata": {},
   "outputs": [],
   "source": []
  }
 ],
 "metadata": {
  "kernelspec": {
   "display_name": "Python 3 (ipykernel)",
   "language": "python",
   "name": "python3"
  },
  "language_info": {
   "codemirror_mode": {
    "name": "ipython",
    "version": 3
   },
   "file_extension": ".py",
   "mimetype": "text/x-python",
   "name": "python",
   "nbconvert_exporter": "python",
   "pygments_lexer": "ipython3",
   "version": "3.9.12"
  }
 },
 "nbformat": 4,
 "nbformat_minor": 5
}
