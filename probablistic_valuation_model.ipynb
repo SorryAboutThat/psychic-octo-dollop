{
  "nbformat": 4,
  "nbformat_minor": 0,
  "metadata": {
    "colab": {
      "provenance": [],
      "authorship_tag": "ABX9TyNofJlgWYD6tQq9LyCrPMNJ",
      "include_colab_link": true
    },
    "kernelspec": {
      "name": "python3",
      "display_name": "Python 3"
    },
    "language_info": {
      "name": "python"
    }
  },
  "cells": [
    {
      "cell_type": "markdown",
      "metadata": {
        "id": "view-in-github",
        "colab_type": "text"
      },
      "source": [
        "<a href=\"https://colab.research.google.com/github/SorryAboutThat/psychic-octo-dollop/blob/main/probablistic_valuation_model.ipynb\" target=\"_parent\"><img src=\"https://colab.research.google.com/assets/colab-badge.svg\" alt=\"Open In Colab\"/></a>"
      ]
    },
    {
      "cell_type": "markdown",
      "source": [
        "Equity Value Probability Model\n",
        "\n",
        "https://towardsdatascience.com/company-valuation-using-probabilistic-models-with-python-712e325964b7"
      ],
      "metadata": {
        "id": "Qo5VTQZgcill"
      }
    },
    {
      "cell_type": "code",
      "execution_count": 1,
      "metadata": {
        "id": "Z1_E_r1LYmJw"
      },
      "outputs": [],
      "source": [
        "\n",
        "from yahoo_fin import stock_info as si\n",
        "from matplotlib import pyplot as plt \n",
        "import pandas_datareader as dr\n",
        "import numpy as np\n",
        "import pandas as pd\n",
        "import datetime\n",
        "import requests\n"
      ]
    },
    {
      "cell_type": "code",
      "source": [
        "company_ticker = 'MSFT'\n",
        "market_risk_premium = 0.059\n",
        "debt_return = 0.01\n",
        "long_term_growth = 0.01\n",
        "tax_rate = 0.3\n",
        "iterations = 1000"
      ],
      "metadata": {
        "id": "LrUe1CPGY_ho"
      },
      "execution_count": 2,
      "outputs": []
    },
    {
      "cell_type": "code",
      "source": [
        "income_statement_df = si.get_income_statement(company_ticker)\n",
        "\n",
        "pars_df = income_statement_df.loc[['totalRevenue', 'ebit']]\n",
        "\n",
        "input_df = pars_df.iloc[:, ::-1]\n",
        "\n",
        "print(input_df)"
      ],
      "metadata": {
        "colab": {
          "base_uri": "https://localhost:8080/"
        },
        "id": "hgzFKZLtZIAq",
        "outputId": "ed62f846-b94c-4aca-ce40-434f22bac741"
      },
      "execution_count": 3,
      "outputs": [
        {
          "output_type": "stream",
          "name": "stdout",
          "text": [
            "endDate         2019-06-30    2020-06-30    2021-06-30    2022-06-30\n",
            "Breakdown                                                           \n",
            "totalRevenue  125843000000  143015000000  168088000000  198270000000\n",
            "ebit           42959000000   52959000000   69916000000   83383000000\n"
          ]
        }
      ]
    },
    {
      "cell_type": "code",
      "source": [
        "def get_cagr(past_revs):\n",
        "    CAGR = (past_revs.iloc[0,3]/past_revs.iloc[0,0])**(1/4)-1\n",
        "    return(CAGR)\n",
        "\n",
        "def get_average_margin(past_ebit):\n",
        "    margin = 0\n",
        "    margin_lst = []\n",
        "    for i in range(len(past_ebit.columns)):\n",
        "        margin = past_ebit.iloc[1,i]/past_ebit.iloc[0,i]\n",
        "    margin_lst.append(margin)\n",
        "    return(sum(margin_lst)/len(margin_lst))\n",
        "\n",
        "mean_cagr = get_cagr(input_df)\n",
        "mean_margin = get_average_margin(input_df)\n",
        "\n",
        "print(mean_cagr)\n",
        "print(mean_margin)\n"
      ],
      "metadata": {
        "colab": {
          "base_uri": "https://localhost:8080/"
        },
        "id": "CdmBje45ZUUn",
        "outputId": "653109af-0c28-4641-cc92-f8e97d304efd"
      },
      "execution_count": 9,
      "outputs": [
        {
          "output_type": "stream",
          "name": "stdout",
          "text": [
            "0.12035842896584503\n",
            "0.4205527815604983\n"
          ]
        }
      ]
    },
    {
      "cell_type": "code",
      "source": [
        "def get_forecast(input_df, cagr, margin, long_term_growth):\n",
        "    forecast_lst = []\n",
        "    for i in range(6):\n",
        "        if i < 5:\n",
        "            forecast_lst.append(input_df.iloc[0,3]*(1+cagr)**(i+1)*margin)\n",
        "        else:\n",
        "            forecast_lst.append(input_df.iloc[0,3]*(1+cagr)**(i)*(1+long_term_growth)*margin)\n",
        "    return forecast_lst"
      ],
      "metadata": {
        "id": "otQTLNBNZbrr"
      },
      "execution_count": 5,
      "outputs": []
    },
    {
      "cell_type": "code",
      "source": [
        "def get_wacc(company_ticker, market_risk_premium, debt_return, tax_rate):\n",
        "  \n",
        "  timespan = 100\n",
        "  current_date = datetime.date.today()\n",
        "  past_date = current_date-datetime.timedelta(days=timespan)\n",
        "  risk_free_rate_df = dr.DataReader('^TNX', 'yahoo', past_date, current_date)\n",
        "  risk_free_rate = (risk_free_rate_df.iloc[len(risk_free_rate_df)-1,5])/100\n",
        "  equity_beta = si.get_quote_table('msft')['Beta (5Y Monthly)']\n",
        "  equity_return = risk_free_rate+equity_beta*(market_risk_premium)\n",
        "  balance_sheet_df = si.get_balance_sheet(company_ticker)\n",
        "  short_term_debt_series = balance_sheet_df.loc['shortLongTermDebt']\n",
        "  long_term_debt_series = balance_sheet_df.loc['longTermDebt']\n",
        "  cash_series = balance_sheet_df.loc['cash']\n",
        "  net_debt = short_term_debt_series.iloc[0] +  + long_term_debt_series.iloc[0] - cash_series.iloc[0]\n",
        "  market_cap_str = si.get_quote_table(company_ticker)['Market Cap']\n",
        "  market_cap_lst = market_cap_str.split('.')\n",
        "\n",
        "  if market_cap_str[len(market_cap_str)-1] == 'T':\n",
        "        market_cap_length = len(market_cap_lst[1])-1\n",
        "        market_cap_lst[1] = market_cap_lst[1].replace('T',(12-market_cap_length)*'0')\n",
        "        market_cap = int(''.join(market_cap_lst))\n",
        "\n",
        "  if market_cap_str[len(market_cap_str)-1] == 'B':\n",
        "        market_cap_length = len(market_cap_lst[1])-1\n",
        "        market_cap_lst[1] = market_cap_lst[1].replace('B',(9-market_cap_length)*'0')\n",
        "        market_cap = int(''.join(market_cap_lst))\n",
        "\n",
        "  company_value = market_cap + net_debt\n",
        "  WACC = market_cap/company_value * equity_return + net_debt/company_value * debt_return * (1-tax_rate)\n",
        "  return WACC\n",
        "\n",
        "def get_net_debt():\n",
        "    \n",
        "    balance_sheet_df = si.get_balance_sheet(company_ticker)\n",
        "    short_term_debt_series = balance_sheet_df.loc['shortLongTermDebt']\n",
        "    long_term_debt_series = balance_sheet_df.loc['longTermDebt']\n",
        "    cash_series = balance_sheet_df.loc['cash']\n",
        "\n",
        "    return short_term_debt_series.iloc[0] + long_term_debt_series.iloc[0] - cash_series.iloc[0]\n",
        "    \n",
        "mean_wacc = get_wacc(company_ticker, market_risk_premium, debt_return, tax_rate)\n",
        "\n",
        "net_debt = get_net_debt()"
      ],
      "metadata": {
        "id": "f03p_clSZtQF"
      },
      "execution_count": 7,
      "outputs": []
    },
    {
      "cell_type": "code",
      "source": [
        "def discount(forecast, discount_rate, long_term_rate):\n",
        "    discount_lst = []\n",
        "    for x,i in enumerate(forecast):\n",
        "        if x < 5:\n",
        "            discount_lst.append(i/(1+discount_rate)**(x+1))\n",
        "        else:\n",
        "            discount_lst.append(i/(discount_rate-long_term_rate)*(1/(1+discount_rate)**5))\n",
        "    return sum(discount_lst)\n",
        "forecast = get_forecast(input_df, cagr, margin, long_term_rate)\n",
        "present_value = discount(forecast, discount_rate, long_term_rate)-net_debt"
      ],
      "metadata": {
        "colab": {
          "base_uri": "https://localhost:8080/",
          "height": 218
        },
        "id": "xa_xoA2zcRCW",
        "outputId": "5a314f17-83ac-4132-e171-49c0363d2b51"
      },
      "execution_count": 8,
      "outputs": [
        {
          "output_type": "error",
          "ename": "NameError",
          "evalue": "ignored",
          "traceback": [
            "\u001b[0;31m---------------------------------------------------------------------------\u001b[0m",
            "\u001b[0;31mNameError\u001b[0m                                 Traceback (most recent call last)",
            "\u001b[0;32m<ipython-input-8-8ddbfbf9cfa3>\u001b[0m in \u001b[0;36m<module>\u001b[0;34m\u001b[0m\n\u001b[1;32m      7\u001b[0m             \u001b[0mdiscount_lst\u001b[0m\u001b[0;34m.\u001b[0m\u001b[0mappend\u001b[0m\u001b[0;34m(\u001b[0m\u001b[0mi\u001b[0m\u001b[0;34m/\u001b[0m\u001b[0;34m(\u001b[0m\u001b[0mdiscount_rate\u001b[0m\u001b[0;34m-\u001b[0m\u001b[0mlong_term_rate\u001b[0m\u001b[0;34m)\u001b[0m\u001b[0;34m*\u001b[0m\u001b[0;34m(\u001b[0m\u001b[0;36m1\u001b[0m\u001b[0;34m/\u001b[0m\u001b[0;34m(\u001b[0m\u001b[0;36m1\u001b[0m\u001b[0;34m+\u001b[0m\u001b[0mdiscount_rate\u001b[0m\u001b[0;34m)\u001b[0m\u001b[0;34m**\u001b[0m\u001b[0;36m5\u001b[0m\u001b[0;34m)\u001b[0m\u001b[0;34m)\u001b[0m\u001b[0;34m\u001b[0m\u001b[0;34m\u001b[0m\u001b[0m\n\u001b[1;32m      8\u001b[0m     \u001b[0;32mreturn\u001b[0m \u001b[0msum\u001b[0m\u001b[0;34m(\u001b[0m\u001b[0mdiscount_lst\u001b[0m\u001b[0;34m)\u001b[0m\u001b[0;34m\u001b[0m\u001b[0;34m\u001b[0m\u001b[0m\n\u001b[0;32m----> 9\u001b[0;31m \u001b[0mforecast\u001b[0m \u001b[0;34m=\u001b[0m \u001b[0mget_forecast\u001b[0m\u001b[0;34m(\u001b[0m\u001b[0minput_df\u001b[0m\u001b[0;34m,\u001b[0m \u001b[0mcagr\u001b[0m\u001b[0;34m,\u001b[0m \u001b[0mmargin\u001b[0m\u001b[0;34m,\u001b[0m \u001b[0mlong_term_rate\u001b[0m\u001b[0;34m)\u001b[0m\u001b[0;34m\u001b[0m\u001b[0;34m\u001b[0m\u001b[0m\n\u001b[0m\u001b[1;32m     10\u001b[0m \u001b[0mpresent_value\u001b[0m \u001b[0;34m=\u001b[0m \u001b[0mdiscount\u001b[0m\u001b[0;34m(\u001b[0m\u001b[0mforecast\u001b[0m\u001b[0;34m,\u001b[0m \u001b[0mdiscount_rate\u001b[0m\u001b[0;34m,\u001b[0m \u001b[0mlong_term_rate\u001b[0m\u001b[0;34m)\u001b[0m\u001b[0;34m-\u001b[0m\u001b[0mnet_debt\u001b[0m\u001b[0;34m\u001b[0m\u001b[0;34m\u001b[0m\u001b[0m\n",
            "\u001b[0;31mNameError\u001b[0m: name 'cagr' is not defined"
          ]
        }
      ]
    }
  ]
}